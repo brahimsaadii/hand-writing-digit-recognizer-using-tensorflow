{
 "cells": [
  {
   "cell_type": "markdown",
   "id": "468e6a3c",
   "metadata": {},
   "source": [
    "## in this notebook i'll make a clasifier to classify hand writing digit"
   ]
  },
  {
   "cell_type": "markdown",
   "id": "1caee210",
   "metadata": {},
   "source": [
    "### importing libraries"
   ]
  },
  {
   "cell_type": "code",
   "execution_count": 1,
   "id": "03114ab3",
   "metadata": {},
   "outputs": [],
   "source": [
    "import tensorflow as tf\n",
    "from tensorflow import keras\n",
    "import matplotlib.pyplot as plt\n",
    "%matplotlib inline\n",
    "import numpy as np\n",
    "import pandas as pd\n",
    "from sklearn.metrics import confusion_matrix\n",
    "import seaborn as sn"
   ]
  },
  {
   "cell_type": "markdown",
   "id": "1412b430",
   "metadata": {},
   "source": [
    "### load the data from keras datasets"
   ]
  },
  {
   "cell_type": "code",
   "execution_count": 2,
   "id": "3cbb8968",
   "metadata": {},
   "outputs": [],
   "source": [
    "keras.datasets.mnist.load_data();"
   ]
  },
  {
   "cell_type": "code",
   "execution_count": 3,
   "id": "fc63ee61",
   "metadata": {},
   "outputs": [],
   "source": [
    "(X_train, Y_train), (X_test, y_test) = keras.datasets.mnist.load_data()"
   ]
  },
  {
   "cell_type": "markdown",
   "id": "8ddb1bd6",
   "metadata": {},
   "source": [
    "### data scalling for better accuracy"
   ]
  },
  {
   "cell_type": "code",
   "execution_count": 4,
   "id": "09681ada",
   "metadata": {},
   "outputs": [],
   "source": [
    "X_test = X_test/255\n",
    "X_train = X_train/255"
   ]
  },
  {
   "cell_type": "code",
   "execution_count": 5,
   "id": "c0a8a42e",
   "metadata": {},
   "outputs": [
    {
     "data": {
      "text/plain": [
       "(60000, 60000)"
      ]
     },
     "execution_count": 5,
     "metadata": {},
     "output_type": "execute_result"
    }
   ],
   "source": [
    "len(X_train), len(Y_train)"
   ]
  },
  {
   "cell_type": "code",
   "execution_count": 6,
   "id": "ab0667c5",
   "metadata": {},
   "outputs": [
    {
     "data": {
      "text/plain": [
       "<matplotlib.image.AxesImage at 0x173f418d880>"
      ]
     },
     "execution_count": 6,
     "metadata": {},
     "output_type": "execute_result"
    },
    {
     "data": {
      "image/png": "[encoded data removed]",
      "text/plain": [
       "<Figure size 576x360 with 2 Axes>"
      ]
     },
     "metadata": {
      "needs_background": "light"
     },
     "output_type": "display_data"
    }
   ],
   "source": [
    "fig = plt.figure(figsize=(8,5))\n",
    "\n",
    "ax1 = fig.add_subplot(121)\n",
    "ax1.matshow(X_train[0])\n",
    "\n",
    "ax2 = fig.add_subplot(122)\n",
    "ax2.matshow(X_train[2])"
   ]
  },
  {
   "cell_type": "code",
   "execution_count": 7,
   "id": "969636e4",
   "metadata": {},
   "outputs": [
    {
     "data": {
      "text/plain": [
       "(60000, 28, 28)"
      ]
     },
     "execution_count": 7,
     "metadata": {},
     "output_type": "execute_result"
    }
   ],
   "source": [
    "X_train.shape"
   ]
  },
  {
   "cell_type": "code",
   "execution_count": 8,
   "id": "31c84d42",
   "metadata": {},
   "outputs": [],
   "source": [
    "X_train_flattened = X_train.reshape(len(X_train), 28*28)\n",
    "X_test_flattened = X_test.reshape(len(X_test), 28*28)"
   ]
  },
  {
   "cell_type": "code",
   "execution_count": 9,
   "id": "d35f9ef6",
   "metadata": {},
   "outputs": [
    {
     "data": {
      "text/plain": [
       "(60000, 784)"
      ]
     },
     "execution_count": 9,
     "metadata": {},
     "output_type": "execute_result"
    }
   ],
   "source": [
    "X_train_flattened.shape"
   ]
  },
  {
   "cell_type": "markdown",
   "id": "5dd56027",
   "metadata": {},
   "source": [
    "### a simple neural network with no hiding layars"
   ]
  },
  {
   "cell_type": "code",
   "execution_count": 10,
   "id": "a73dbb01",
   "metadata": {},
   "outputs": [
    {
     "name": "stdout",
     "output_type": "stream",
     "text": [
      "Epoch 1/5\n",
      "1875/1875 [==============================] - 5s 2ms/step - loss: 0.4675 - accuracy: 0.8773\n",
      "Epoch 2/5\n",
      "1875/1875 [==============================] - 4s 2ms/step - loss: 0.3035 - accuracy: 0.9147\n",
      "Epoch 3/5\n",
      "1875/1875 [==============================] - 3s 2ms/step - loss: 0.2830 - accuracy: 0.9208\n",
      "Epoch 4/5\n",
      "1875/1875 [==============================] - 3s 2ms/step - loss: 0.2727 - accuracy: 0.9240\n",
      "Epoch 5/5\n",
      "1875/1875 [==============================] - 3s 2ms/step - loss: 0.2667 - accuracy: 0.9256\n"
     ]
    },
    {
     "data": {
      "text/plain": [
       "<keras.callbacks.History at 0x173f43e8f70>"
      ]
     },
     "execution_count": 10,
     "metadata": {},
     "output_type": "execute_result"
    }
   ],
   "source": [
    "model = keras.Sequential([\n",
    "    keras.layers.Dense(10, input_shape=(784,),activation = 'sigmoid')\n",
    "    \n",
    "])\n",
    "model.compile(\n",
    "    optimizer = 'adam',\n",
    "    loss = 'sparse_categorical_crossentropy',\n",
    "    metrics = ['accuracy']\n",
    ")\n",
    "\n",
    "model.fit(X_train_flattened, Y_train, epochs = 5)"
   ]
  },
  {
   "cell_type": "code",
   "execution_count": 11,
   "id": "bc9516cc",
   "metadata": {},
   "outputs": [
    {
     "name": "stdout",
     "output_type": "stream",
     "text": [
      "313/313 [==============================] - 1s 2ms/step - loss: 0.2700 - accuracy: 0.9266\n"
     ]
    },
    {
     "data": {
      "text/plain": [
       "[0.2700180411338806, 0.9265999794006348]"
      ]
     },
     "execution_count": 11,
     "metadata": {},
     "output_type": "execute_result"
    }
   ],
   "source": [
    "model.evaluate(X_test_flattened, y_test)"
   ]
  },
  {
   "cell_type": "markdown",
   "id": "50ba5848",
   "metadata": {},
   "source": [
    "### making some predictions"
   ]
  },
  {
   "cell_type": "code",
   "execution_count": 12,
   "id": "b69e5b97",
   "metadata": {},
   "outputs": [
    {
     "name": "stdout",
     "output_type": "stream",
     "text": [
      "313/313 [==============================] - 1s 1ms/step\n"
     ]
    }
   ],
   "source": [
    "y_predicted = model.predict(X_test_flattened)"
   ]
  },
  {
   "cell_type": "code",
   "execution_count": 13,
   "id": "6ba46d60",
   "metadata": {},
   "outputs": [
    {
     "data": {
      "text/plain": [
       "2"
      ]
     },
     "execution_count": 13,
     "metadata": {},
     "output_type": "execute_result"
    }
   ],
   "source": [
    "np.argmax(y_predicted[1])"
   ]
  },
  {
   "cell_type": "code",
   "execution_count": 14,
   "id": "0137d5e4",
   "metadata": {},
   "outputs": [
    {
     "data": {
      "text/plain": [
       "<matplotlib.image.AxesImage at 0x173f57735b0>"
      ]
     },
     "execution_count": 14,
     "metadata": {},
     "output_type": "execute_result"
    },
    {
     "data": {
      "image/png": "[encoded data removed]",
      "text/plain": [
       "<Figure size 288x288 with 1 Axes>"
      ]
     },
     "metadata": {
      "needs_background": "light"
     },
     "output_type": "display_data"
    }
   ],
   "source": [
    "plt.matshow(X_test[1])"
   ]
  },
  {
   "cell_type": "markdown",
   "id": "633ff2c7",
   "metadata": {},
   "source": [
    "### confusing matrix"
   ]
  },
  {
   "cell_type": "code",
   "execution_count": 15,
   "id": "1ae47b67",
   "metadata": {},
   "outputs": [],
   "source": [
    "a = y_test\n",
    "for i in range(10000):\n",
    "    a[i] = np.argmax(y_predicted[i][:])\n"
   ]
  },
  {
   "cell_type": "code",
   "execution_count": 16,
   "id": "32ab53d9",
   "metadata": {},
   "outputs": [],
   "source": [
    "y_prediction = np.argmax (y_predicted, axis = 1)\n",
    "y_predicted_labels = [np.argmax(i) for i in y_predicted]"
   ]
  },
  {
   "cell_type": "code",
   "execution_count": 17,
   "id": "7d1c6fd0",
   "metadata": {},
   "outputs": [
    {
     "data": {
      "text/plain": [
       "Text(69.0, 0.5, 'truth')"
      ]
     },
     "execution_count": 17,
     "metadata": {},
     "output_type": "execute_result"
    },
    {
     "data": {
      "image/png": "[encoded data removed]",
      "text/plain": [
       "<Figure size 720x504 with 2 Axes>"
      ]
     },
     "metadata": {
      "needs_background": "light"
     },
     "output_type": "display_data"
    }
   ],
   "source": [
    "cm = tf.math.confusion_matrix(labels = y_test, predictions = y_predicted_labels)\n",
    "plt.figure(figsize = (10,7))\n",
    "sn.heatmap(cm, annot = True, fmt ='d')\n",
    "plt.xlabel('predicted')\n",
    "plt.ylabel('truth')"
   ]
  },
  {
   "cell_type": "markdown",
   "id": "b7ebf9bd",
   "metadata": {},
   "source": [
    "### neural nets using 24 hiding layers"
   ]
  },
  {
   "cell_type": "code",
   "execution_count": 18,
   "id": "9d1a5d4b",
   "metadata": {},
   "outputs": [
    {
     "name": "stdout",
     "output_type": "stream",
     "text": [
      "Epoch 1/10\n",
      "1875/1875 [==============================] - 5s 2ms/step - loss: 0.4039 - accuracy: 0.8864\n",
      "Epoch 2/10\n",
      "1875/1875 [==============================] - 4s 2ms/step - loss: 0.2197 - accuracy: 0.9376\n",
      "Epoch 3/10\n",
      "1875/1875 [==============================] - 4s 2ms/step - loss: 0.1835 - accuracy: 0.9477\n",
      "Epoch 4/10\n",
      "1875/1875 [==============================] - 4s 2ms/step - loss: 0.1603 - accuracy: 0.9535\n",
      "Epoch 5/10\n",
      "1875/1875 [==============================] - 4s 2ms/step - loss: 0.1438 - accuracy: 0.9580\n",
      "Epoch 6/10\n",
      "1875/1875 [==============================] - 4s 2ms/step - loss: 0.1326 - accuracy: 0.9609\n",
      "Epoch 7/10\n",
      "1875/1875 [==============================] - 4s 2ms/step - loss: 0.1229 - accuracy: 0.9639\n",
      "Epoch 8/10\n",
      "1875/1875 [==============================] - 4s 2ms/step - loss: 0.1157 - accuracy: 0.9661\n",
      "Epoch 9/10\n",
      "1875/1875 [==============================] - 4s 2ms/step - loss: 0.1091 - accuracy: 0.9678\n",
      "Epoch 10/10\n",
      "1875/1875 [==============================] - 4s 2ms/step - loss: 0.1029 - accuracy: 0.9694\n"
     ]
    },
    {
     "data": {
      "text/plain": [
       "<keras.callbacks.History at 0x173f43c44c0>"
      ]
     },
     "execution_count": 18,
     "metadata": {},
     "output_type": "execute_result"
    }
   ],
   "source": [
    "model = keras.Sequential([\n",
    "    keras.layers.Dense(24, input_shape=(784,),activation = 'relu'),\n",
    "    keras.layers.Dense(10 ,activation = 'sigmoid')\n",
    "    \n",
    "])\n",
    "model.compile(\n",
    "    optimizer = 'adam',\n",
    "    loss = 'sparse_categorical_crossentropy',\n",
    "    metrics = ['accuracy']\n",
    ")\n",
    "\n",
    "model.fit(X_train_flattened, Y_train, epochs = 10)"
   ]
  },
  {
   "cell_type": "markdown",
   "id": "ead66f18",
   "metadata": {},
   "source": [
    "### neural nets using 10 and then 16 hiding layers"
   ]
  },
  {
   "cell_type": "code",
   "execution_count": 19,
   "id": "c165ab0a",
   "metadata": {},
   "outputs": [
    {
     "name": "stdout",
     "output_type": "stream",
     "text": [
      "Epoch 1/10\n",
      "1875/1875 [==============================] - 5s 2ms/step - loss: 0.8658 - accuracy: 0.7999\n",
      "Epoch 2/10\n",
      "1875/1875 [==============================] - 4s 2ms/step - loss: 0.3415 - accuracy: 0.9097\n",
      "Epoch 3/10\n",
      "1875/1875 [==============================] - 4s 2ms/step - loss: 0.2817 - accuracy: 0.9216\n",
      "Epoch 4/10\n",
      "1875/1875 [==============================] - 5s 3ms/step - loss: 0.2566 - accuracy: 0.9279\n",
      "Epoch 5/10\n",
      "1875/1875 [==============================] - 4s 2ms/step - loss: 0.2417 - accuracy: 0.9317\n",
      "Epoch 6/10\n",
      "1875/1875 [==============================] - 4s 2ms/step - loss: 0.2304 - accuracy: 0.9346\n",
      "Epoch 7/10\n",
      "1875/1875 [==============================] - 4s 2ms/step - loss: 0.2216 - accuracy: 0.9361\n",
      "Epoch 8/10\n",
      "1875/1875 [==============================] - 4s 2ms/step - loss: 0.2141 - accuracy: 0.9388\n",
      "Epoch 9/10\n",
      "1875/1875 [==============================] - 5s 3ms/step - loss: 0.2093 - accuracy: 0.9390\n",
      "Epoch 10/10\n",
      "1875/1875 [==============================] - 5s 3ms/step - loss: 0.2038 - accuracy: 0.9409\n"
     ]
    },
    {
     "data": {
      "text/plain": [
       "<keras.callbacks.History at 0x173f59945e0>"
      ]
     },
     "execution_count": 19,
     "metadata": {},
     "output_type": "execute_result"
    }
   ],
   "source": [
    "model = keras.Sequential([\n",
    "    keras.layers.Dense(10, input_shape=(784,),activation = 'relu'),\n",
    "    keras.layers.Dense(16 ,activation = 'sigmoid'),\n",
    "    keras.layers.Dense(10 ,activation = 'sigmoid')\n",
    "\n",
    "    \n",
    "])\n",
    "model.compile(\n",
    "    optimizer = 'adam',\n",
    "    loss = 'sparse_categorical_crossentropy',\n",
    "    metrics = ['accuracy']\n",
    ")\n",
    "\n",
    "model.fit(X_train_flattened, Y_train, epochs = 10)"
   ]
  },
  {
   "cell_type": "code",
   "execution_count": 20,
   "id": "9f129768",
   "metadata": {},
   "outputs": [
    {
     "name": "stdout",
     "output_type": "stream",
     "text": [
      "313/313 [==============================] - 1s 2ms/step - loss: 0.1821 - accuracy: 0.9382\n"
     ]
    },
    {
     "data": {
      "text/plain": [
       "[0.18212509155273438, 0.9381999969482422]"
      ]
     },
     "execution_count": 20,
     "metadata": {},
     "output_type": "execute_result"
    }
   ],
   "source": [
    "model.evaluate(X_test_flattened, y_test)"
   ]
  },
  {
   "cell_type": "code",
   "execution_count": 21,
   "id": "32cfaa07",
   "metadata": {},
   "outputs": [
    {
     "name": "stdout",
     "output_type": "stream",
     "text": [
      "313/313 [==============================] - 1s 2ms/step - loss: 0.1821 - accuracy: 0.9382\n",
      "Test score: 0.18212509155273438\n",
      "Test accuracy: 0.9381999969482422\n"
     ]
    }
   ],
   "source": [
    "score, acc = model.evaluate(X_test_flattened, y_test)\n",
    "print('Test score:', score)\n",
    "print('Test accuracy:', acc)"
   ]
  },
  {
   "cell_type": "code",
   "execution_count": 22,
   "id": "214cad73",
   "metadata": {},
   "outputs": [
    {
     "name": "stdout",
     "output_type": "stream",
     "text": [
      "313/313 [==============================] - 1s 2ms/step\n"
     ]
    }
   ],
   "source": [
    "y_predicted = model.predict(X_test_flattened)\n"
   ]
  },
  {
   "cell_type": "markdown",
   "id": "89050c22",
   "metadata": {},
   "source": [
    "### confusing matrix"
   ]
  },
  {
   "cell_type": "code",
   "execution_count": 23,
   "id": "c64990ee",
   "metadata": {},
   "outputs": [],
   "source": [
    "y_prediction = np.argmax (y_predicted, axis = 1)\n",
    "y_predicted_labels = [np.argmax(i) for i in y_predicted]"
   ]
  },
  {
   "cell_type": "code",
   "execution_count": 24,
   "id": "ad5ff230",
   "metadata": {},
   "outputs": [
    {
     "data": {
      "text/plain": [
       "Text(69.0, 0.5, 'truth')"
      ]
     },
     "execution_count": 24,
     "metadata": {},
     "output_type": "execute_result"
    },
    {
     "data": {
      "image/png": "[encoded data removed]",
      "text/plain": [
       "<Figure size 720x504 with 2 Axes>"
      ]
     },
     "metadata": {
      "needs_background": "light"
     },
     "output_type": "display_data"
    }
   ],
   "source": [
    "cm = tf.math.confusion_matrix(labels = y_test, predictions = y_predicted_labels)\n",
    "plt.figure(figsize = (10,7))\n",
    "sn.heatmap(cm, annot = True, fmt ='d')\n",
    "plt.xlabel('predicted')\n",
    "plt.ylabel('truth')"
   ]
  }
 ],
 "metadata": {
  "kernelspec": {
   "display_name": "Python 3 (ipykernel)",
   "language": "python",
   "name": "python3"
  },
  "language_info": {
   "codemirror_mode": {
    "name": "ipython",
    "version": 3
   },
   "file_extension": ".py",
   "mimetype": "text/x-python",
   "name": "python",
   "nbconvert_exporter": "python",
   "pygments_lexer": "ipython3",
   "version": "3.9.7"
  },
  "vscode": {
   "interpreter": {
    "hash": "f828c314c575de3fd5745cc84af2e5754b350d1761755caf13dd984e7a4fc856"
   }
  }
 },
 "nbformat": 4,
 "nbformat_minor": 5
}
